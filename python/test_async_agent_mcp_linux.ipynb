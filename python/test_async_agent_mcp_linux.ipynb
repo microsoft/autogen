{
 "cells": [
  {
   "cell_type": "markdown",
   "id": "f380fdd1",
   "metadata": {},
   "source": [
    "# Test: Async Agent with MCP Workbench in Jupyter (Linux)\n",
    "This notebook tests that async agent code using MCP Workbench does not hang in Jupyter."
   ]
  },
  {
   "cell_type": "code",
   "execution_count": null,
   "id": "c85a2384",
   "metadata": {},
   "outputs": [],
   "source": [
    "# Install nest_asyncio if not already installed\n",
    "!pip install nest_asyncio --quiet"
   ]
  },
  {
   "cell_type": "code",
   "execution_count": null,
   "id": "906743d6",
   "metadata": {},
   "outputs": [],
   "source": [
    "import nest_asyncio\n",
    "nest_asyncio.apply()\n",
    "print(\"nest_asyncio applied\")"
   ]
  },
  {
   "cell_type": "code",
   "execution_count": null,
   "id": "32a012bd",
   "metadata": {},
   "outputs": [],
   "source": [
    "import os\n",
    "from autogen_agentchat.agents import AssistantAgent\n",
    "from autogen_agentchat.messages import TextMessage\n",
    "from autogen_ext.models.openai import OpenAIChatCompletionClient\n",
    "from autogen_ext.tools.mcp import McpWorkbench, StdioServerParams\n",
    "\n",
    "# --- API Key Handling Improvement ---\n",
    "# Check for API key and prompt user if not set\n",
    "if not os.environ.get(\"OPENAI_API_KEY\"):\n",
    "    from getpass import getpass\n",
    "    api_key = getpass(\"Enter your OpenAI API Key (input hidden): \")\n",
    "    os.environ[\"OPENAI_API_KEY\"] = api_key\n",
    "    print(\"API key set for this session.\")\n",
    "else:\n",
    "    print(\"OPENAI_API_KEY found in environment.\")\n",
    "\n",
    "fetch_mcp_server = StdioServerParams(command=\"uvx\", args=[\"mcp-server-fetch\"])\n",
    "\n",
    "async def test_agent():\n",
    "    async with McpWorkbench(fetch_mcp_server) as workbench:  # type: ignore\n",
    "        model_client = OpenAIChatCompletionClient(model=\"gpt-4.1-nano\")\n",
    "        fetch_agent = AssistantAgent(\n",
    "            name=\"fetcher\", model_client=model_client, workbench=workbench, reflect_on_tool_use=True\n",
    "        )\n",
    "        result = await fetch_agent.run(task=\"Summarize the content of https://en.wikipedia.org/wiki/Seattle\")\n",
    "        assert isinstance(result.messages[-1], TextMessage)\n",
    "        print(result.messages[-1].content)\n",
    "        await model_client.close()\n",
    "\n",
    "import asyncio\n",
    "await test_agent()"
   ]
  },
  {
   "cell_type": "markdown",
   "id": "ba42506b",
   "metadata": {},
   "source": [
    "**Note:** This notebook now securely prompts for your OpenAI API key if it is not set in the environment, so you do not need to edit the code to add your key. This improves usability and security. If you see an error about `OPENAI_API_KEY`, ensure you enter a valid key when prompted."
   ]
  }
 ],
 "metadata": {
  "language_info": {
   "name": "python"
  }
 },
 "nbformat": 4,
 "nbformat_minor": 5
}
