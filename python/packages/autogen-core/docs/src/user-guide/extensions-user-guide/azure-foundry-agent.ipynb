{
  "cells": [
    {
      "cell_type": "markdown",
      "metadata": {},
      "source": [
        "# Azure AI Foundry Agent\n",
        "\n",
        "In AutoGen, you can build and deploy agents that are backed by the [Azure AI Foundry Agent Service](https://learn.microsoft.com/en-us/azure/ai-services/agents/overview). Here, important components like model provisioning, tools (e.g, code interpreter, bing search grounding, file search etc.), observability, and security are managed by Azure. This allows you to focus on building your agent without worrying about the underlying infrastructure.\n"
      ]
    },
    {
      "cell_type": "code",
      "execution_count": null,
      "metadata": {},
      "outputs": [],
      "source": [
        "# pip install \"autogen-ext[azure]\"  # For Azure AI Foundry Agent Service"
      ]
    },
    {
      "cell_type": "markdown",
      "metadata": {},
      "source": [
        "# Bing Search Grounding \n",
        "\n",
        "An Azure Foundry Agent can be assigned a set of tools including [Grounding with Bing Search](https://learn.microsoft.com/en-us/azure/ai-services/agents/how-to/tools/bing-grounding?tabs=python&pivots=overview#setup). \n",
        "\n",
        "Grounding with Bing Search allows your Azure AI Agents to incorporate real-time public web data when generating responses. You need to create a Grounding with Bing Search resource, and then connect this resource to your Azure AI Agents. When a user sends a query, Azure AI Agents decide if Grounding with Bing Search should be leveraged or not. If so, it will leverage Bing to search over public web data and return relevant chunks. Lastly, Azure AI Agents will use returned chunks to generate a response.\n",
        "\n",
        "## Prerequisites\n",
        "\n",
        "- You need to have an Azure subscription.\n",
        "- You need to have the Azure CLI installed and configured. (also login using the command `az login` to enable default credentials)\n",
        "- You need to have the `autogen-ext[azure]` package installed.\n",
        "\n",
        "You can create a [Grounding with Bing Search resource in the Azure portal](https://portal.azure.com/#create/Microsoft.BingGroundingSearch). Note that you will need to have owner or contributor role in your subscription or resource group to create it. Once you have created your resource, you can then pass it to the Azure Foundry Agent using the resource name.\n",
        "\n",
        "In the following example, we will create a new Azure Foundry Agent that uses the Grounding with Bing Search resource.\n"
      ]
    },
    {
      "cell_type": "code",
      "execution_count": null,
      "metadata": {},
      "outputs": [],
      "source": [
        "import os\n",
        "\n",
        "from autogen_agentchat.messages import TextMessage\n",
        "from autogen_core import CancellationToken\n",
        "from autogen_ext.agents.azure._azure_ai_agent import AzureAIAgent\n",
        "from azure.ai.projects.aio import AIProjectClient\n",
        "from azure.identity.aio import DefaultAzureCredential\n",
        "from azure.ai.agents.models import BingGroundingTool\n",
        "import dotenv\n",
        "\n",
        "dotenv.load_dotenv()\n",
        "\n",
        "async def bing_example(): \n",
        "    async with DefaultAzureCredential() as credential: # type: ignore\n",
        "        async with AIProjectClient(  # type: ignore\n",
        "            credential=credential, endpoint=os.getenv(\"AZURE_PROJECT_ENDPOINT\", \"\")\n",
        "        ) as project_client:\n",
        "            conn = await project_client.connections.get(name=os.getenv(\"BING_CONNECTION_NAME\", \"\"))\n",
        "\n",
        "            bing_tool = BingGroundingTool(conn.id)\n",
        "            agent_with_bing_grounding = AzureAIAgent(\n",
        "                name=\"bing_agent\",\n",
        "                description=\"An AI assistant with Bing grounding\",\n",
        "                project_client=project_client,\n",
        "                deployment_name=\"gpt-4o\",\n",
        "                instructions=\"You are a helpful assistant.\",\n",
        "                tools=bing_tool.definitions,\n",
        "                metadata={\"source\": \"AzureAIAgent\"},\n",
        "            )\n",
        "\n",
        "            # For the bing grounding tool to return the citations, the message must contain an instruction for the model to do return them.\n",
        "            # For example: \"Please provide citations for the answers\"\n",
        "\n",
        "            result = await agent_with_bing_grounding.on_messages(\n",
        "                messages=[\n",
        "                    TextMessage(\n",
        "                        content=\"What is Microsoft's annual leave policy? Provide citations for your answers.\",\n",
        "                        source=\"user\",\n",
        "                    )\n",
        "                ],\n",
        "                cancellation_token=CancellationToken(),\n",
        "                message_limit=5,\n",
        "            )\n",
        "            print(result)\n",
        "await bing_example()"
      ]
    }
  ],
  "metadata": {
    "kernelspec": {
      "display_name": ".venv",
      "language": "python",
      "name": "python3"
    },
    "language_info": {
      "codemirror_mode": {
        "name": "ipython",
        "version": 3
      },
      "file_extension": ".py",
      "mimetype": "text/x-python",
      "name": "python",
      "nbconvert_exporter": "python",
      "pygments_lexer": "ipython3",
      "version": "3.11.12"
    }
  },
  "nbformat": 4,
  "nbformat_minor": 2
}
