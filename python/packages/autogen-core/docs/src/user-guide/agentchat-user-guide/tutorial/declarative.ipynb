{
 "cells": [
  {
   "cell_type": "markdown",
   "metadata": {},
   "source": [
    "# Declarative Components \n",
    "\n",
    "AutoGen provides a declarative  {py:class}`~autogen_core.Component` configuration class that defines behaviours for declarative import/export. This is useful for debugging, visualizing, and even for sharing your work with others. In this notebook, we will demonstrate how to export a declarative representation of a multiagent team in the form of a JSON file.  \n",
    "\n",
    "\n",
    "```{note}\n",
    "This is work in progress\n",
    "``` \n",
    "\n",
    "We will be implementing declarative support for the following components:\n",
    "\n",
    "- Termination conditions ✔️\n",
    "- Tools \n",
    "- Agents \n",
    "- Teams \n",
    "\n",
    "\n",
    "### Termination Condition Example \n",
    "\n",
    "In the example below, we will define termination conditions (a part of an agent team) in python, export this to a dictionary/json and also demonstrate how the termination condition object can be loaded from the dictionary/json. \n",
    " "
   ]
  },
  {
   "cell_type": "code",
   "execution_count": 1,
   "metadata": {},
   "outputs": [],
   "source": [
    "# from autogen_agentchat.conditions import MaxMessageTermination, StopMessageTermination\n",
    "\n",
    "# max_termination = MaxMessageTermination(5)\n",
    "# stop_termination = StopMessageTermination()\n",
    "\n",
    "# or_termination = max_termination | stop_termination\n",
    "\n",
    "# or_term_config = or_termination.dump_component()\n",
    "# print(\"Config: \",or_term_config)\n",
    "\n",
    "# new_or_termination = or_termination.load_component(or_term_config)\n",
    "# print(\"Object: \",new_or_termination)"
   ]
  },
  {
   "cell_type": "markdown",
   "metadata": {},
   "source": [
    "## Agent Example \n",
    "\n",
    "In the example below, we will define an agent in python, export this to a dictionary/json and also demonstrate how the agent object can be loaded from the dictionary/json."
   ]
  },
  {
   "cell_type": "code",
   "execution_count": 2,
   "metadata": {},
   "outputs": [],
   "source": [
    "from autogen_agentchat.agents import AssistantAgent, UserProxyAgent\n",
    "from autogen_agentchat.messages import TextMessage\n",
    "from autogen_agentchat.ui import Console\n",
    "from autogen_core import CancellationToken\n",
    "from autogen_ext.models.openai import OpenAIChatCompletionClient\n",
    "\n",
    "\n",
    "# Define a tool that searches the web for information.\n",
    "async def web_search(query: str) -> str:\n",
    "    \"\"\"Find information on the web\"\"\"\n",
    "    return \"AutoGen is a programming framework for building multi-agent applications.\"\n",
    "\n",
    "\n",
    "# Create an agent that uses the OpenAI GPT-4o model.\n",
    "model_client = OpenAIChatCompletionClient(\n",
    "    model=\"gpt-4o\",\n",
    "    # api_key=\"YOUR_API_KEY\",\n",
    ")\n",
    "agent = AssistantAgent(\n",
    "    name=\"assistant\",\n",
    "    model_client=model_client,\n",
    "    handoffs=[\"flights_refunder\", \"user\"],\n",
    "    tools=[web_search],\n",
    "    system_message=\"Use tools to solve tasks.\",\n",
    ")\n",
    "\n",
    "user_proxy = UserProxyAgent(name=\"user\")\n"
   ]
  },
  {
   "cell_type": "code",
   "execution_count": 3,
   "metadata": {},
   "outputs": [
    {
     "name": "stdout",
     "output_type": "stream",
     "text": [
      "provider='autogen_agentchat.agents.UserProxyAgent' component_type='agent' version=1 component_version=1 description=None config={'name': 'user', 'description': 'A human user'}\n",
      "<autogen_agentchat.agents._user_proxy_agent.UserProxyAgent object at 0x10b09b210>\n"
     ]
    }
   ],
   "source": [
    "up_config = user_proxy.dump_component()\n",
    "print(up_config)\n",
    "up_new = user_proxy.load_component(up_config)\n",
    "print(up_new)"
   ]
  },
  {
   "cell_type": "code",
   "execution_count": 4,
   "metadata": {},
   "outputs": [
    {
     "name": "stdout",
     "output_type": "stream",
     "text": [
      "provider='autogen_agentchat.agents.AssistantAgent' component_type='agent' version=1 component_version=1 description=None config={'name': 'assistant', 'model_client': {'provider': 'autogen_ext.models.openai.OpenAIChatCompletionClient', 'component_type': 'model', 'version': 1, 'component_version': 1, 'config': {'model': 'gpt-4o'}}, 'tools': [], 'handoffs': [{'target': 'flights_refunder', 'description': 'Handoff to flights_refunder.', 'name': 'transfer_to_flights_refunder', 'message': 'Transferred to flights_refunder, adopting the role of flights_refunder immediately.'}, {'target': 'user', 'description': 'Handoff to user.', 'name': 'transfer_to_user', 'message': 'Transferred to user, adopting the role of user immediately.'}], 'model_context': {'provider': 'autogen_core.model_context.UnboundedChatCompletionContext', 'component_type': 'chat_completion_context', 'version': 1, 'component_version': 1, 'config': {}}, 'description': 'An agent that provides assistance with ability to use tools.', 'system_message': 'Use tools to solve tasks.', 'reflect_on_tool_use': False, 'tool_call_summary_format': '{result}'}\n",
      "<autogen_agentchat.agents._assistant_agent.AssistantAgent object at 0x10b33fc50>\n"
     ]
    }
   ],
   "source": [
    "agent_config = agent.dump_component() \n",
    "print(agent_config)\n",
    "agent_new = agent.load_component(agent_config)\n",
    "print(agent_new)"
   ]
  },
  {
   "cell_type": "code",
   "execution_count": 5,
   "metadata": {},
   "outputs": [
    {
     "data": {
      "text/plain": [
       "{'name': 'assistant',\n",
       " 'model_client': {'provider': 'autogen_ext.models.openai.OpenAIChatCompletionClient',\n",
       "  'component_type': 'model',\n",
       "  'version': 1,\n",
       "  'component_version': 1,\n",
       "  'config': {'model': 'gpt-4o'}},\n",
       " 'tools': [],\n",
       " 'handoffs': [{'target': 'flights_refunder',\n",
       "   'description': 'Handoff to flights_refunder.',\n",
       "   'name': 'transfer_to_flights_refunder',\n",
       "   'message': 'Transferred to flights_refunder, adopting the role of flights_refunder immediately.'},\n",
       "  {'target': 'user',\n",
       "   'description': 'Handoff to user.',\n",
       "   'name': 'transfer_to_user',\n",
       "   'message': 'Transferred to user, adopting the role of user immediately.'}],\n",
       " 'model_context': {'provider': 'autogen_core.model_context.UnboundedChatCompletionContext',\n",
       "  'component_type': 'chat_completion_context',\n",
       "  'version': 1,\n",
       "  'component_version': 1,\n",
       "  'config': {}},\n",
       " 'description': 'An agent that provides assistance with ability to use tools.',\n",
       " 'system_message': 'Use tools to solve tasks.',\n",
       " 'reflect_on_tool_use': False,\n",
       " 'tool_call_summary_format': '{result}'}"
      ]
     },
     "execution_count": 5,
     "metadata": {},
     "output_type": "execute_result"
    }
   ],
   "source": [
    "agent_config.config"
   ]
  },
  {
   "cell_type": "code",
   "execution_count": 6,
   "metadata": {},
   "outputs": [
    {
     "data": {
      "text/plain": [
       "ComponentModel(provider='autogen_ext.models.openai.OpenAIChatCompletionClient', component_type='model', version=1, component_version=1, description=None, config={'model': 'gpt-4o'})"
      ]
     },
     "execution_count": 6,
     "metadata": {},
     "output_type": "execute_result"
    }
   ],
   "source": [
    "from autogen_core.models import UserMessage\n",
    "from autogen_ext.models.openai import OpenAIChatCompletionClient\n",
    "\n",
    "# Create an OpenAI model client.\n",
    "model_client = OpenAIChatCompletionClient(\n",
    "    model=\"gpt-4o\", \n",
    ")\n",
    "model_client.dump_component()"
   ]
  },
  {
   "cell_type": "code",
   "execution_count": 7,
   "metadata": {},
   "outputs": [],
   "source": [
    "from autogen_core.model_context import UnboundedChatCompletionContext"
   ]
  }
 ],
 "metadata": {
  "kernelspec": {
   "display_name": ".venv",
   "language": "python",
   "name": "python3"
  },
  "language_info": {
   "codemirror_mode": {
    "name": "ipython",
    "version": 3
   },
   "file_extension": ".py",
   "mimetype": "text/x-python",
   "name": "python",
   "nbconvert_exporter": "python",
   "pygments_lexer": "ipython3",
   "version": "3.11.9"
  }
 },
 "nbformat": 4,
 "nbformat_minor": 2
}
